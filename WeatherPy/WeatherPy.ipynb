{
 "cells": [
  {
   "cell_type": "markdown",
   "metadata": {},
   "source": [
    "# WeatherPy\n",
    "----\n",
    "\n",
    "#### Note\n",
    "* Instructions have been included for each segment. You do not have to follow them exactly, but they are included to help you think through the steps."
   ]
  },
  {
   "cell_type": "code",
   "execution_count": 1,
   "metadata": {
    "scrolled": true
   },
   "outputs": [],
   "source": [
    "# Dependencies and Setup\n",
    "import matplotlib.pyplot as plt\n",
    "import pandas as pd\n",
    "import numpy as np\n",
    "import requests\n",
    "import time\n",
    "from scipy.stats import linregress\n",
    "\n",
    "# Import API key\n",
    "import sys, os\n",
    "sys.path.append(os.path.abspath(os.path.join('..')))\n",
    "from config import weather_api_key\n",
    "\n",
    "# Incorporated citipy to determine city based on latitude and longitude\n",
    "from citipy import citipy\n",
    "\n",
    "# Output File (CSV)\n",
    "output_data_file = \"output_data/cities.csv\"\n",
    "\n",
    "# Range of latitudes and longitudes\n",
    "lat_range = (-90, 90)\n",
    "lng_range = (-180, 180)"
   ]
  },
  {
   "cell_type": "markdown",
   "metadata": {},
   "source": [
    "## Generate Cities List"
   ]
  },
  {
   "cell_type": "code",
   "execution_count": 3,
   "metadata": {},
   "outputs": [
    {
     "name": "stdout",
     "output_type": "stream",
     "text": [
      "576\n",
      "<zip object at 0x0000020491D9C100>\n"
     ]
    }
   ],
   "source": [
    "# List for holding lat_lngs and cities\n",
    "lat_lngs = []\n",
    "cities = []\n",
    "countries = []\n",
    "\n",
    "# Create a set of random lat and lng combinations\n",
    "lats = np.random.uniform(lat_range[0], lat_range[1], size=1500)\n",
    "lngs = np.random.uniform(lng_range[0], lng_range[1], size=1500)\n",
    "lat_lngs = zip(lats, lngs)\n",
    "\n",
    "# Identify nearest city for each lat, lng combination\n",
    "for lat_lng in lat_lngs:\n",
    "    city = citipy.nearest_city(lat_lng[0], lat_lng[1]).city_name\n",
    "    country = citipy.nearest_city(lat_lng[0], lat_lng[1]).country_code\n",
    "    \n",
    "    # If the city is unique, then add it to a our cities list\n",
    "    if city not in cities:\n",
    "        cities.append(city)\n",
    "        countries.append(country)\n",
    "\n",
    "# Print the city count to confirm sufficient count\n",
    "print(len(cities))\n",
    "\n",
    "# Combine the two lists into a list of tuples using the zip function\n",
    "city_country = zip(cities,countries)\n",
    "\n",
    "print(city_country)"
   ]
  },
  {
   "cell_type": "markdown",
   "metadata": {},
   "source": [
    "### Perform API Calls\n",
    "* Perform a weather check on each city using a series of successive API calls.\n",
    "* Include a print log of each city as it'sbeing processed (with the city number and city name).\n"
   ]
  },
  {
   "cell_type": "code",
   "execution_count": 4,
   "metadata": {
    "scrolled": true
   },
   "outputs": [],
   "source": [
    "#Creating an empty dataframe to store weather data in\n",
    "weather_df = pd.DataFrame({\"City\": [],\n",
    "                           \"Country\": [],\n",
    "                           \"Lat\": [],\n",
    "                           \"Lon\": [],\n",
    "             \"Temperature (F)\": [],\n",
    "             \"Humidity (%)\": [],\n",
    "             \"Cloudiness (%)\": [],\n",
    "             \"Wind Speed (mph)\": []})\n"
   ]
  },
  {
   "cell_type": "code",
   "execution_count": 6,
   "metadata": {},
   "outputs": [
    {
     "name": "stdout",
     "output_type": "stream",
     "text": [
      "\n",
      "    In Mahébourg (Num: 934322) it is currently 68.29 Fahrenheit.\n",
      "    -----------------------------------\n",
      "\n",
      "    In Kensington (Num: 2161608) it is currently 58.71 Fahrenheit.\n",
      "    -----------------------------------\n",
      "\n",
      "    grand river south east was not found.\n",
      "    -----------------------------------\n",
      "\n",
      "    In Manokwari (Num: 1636308) it is currently 80.35 Fahrenheit.\n",
      "    -----------------------------------\n",
      "\n",
      "    In Saint-Augustin (Num: 6137462) it is currently 49.46 Fahrenheit.\n",
      "    -----------------------------------\n",
      "\n",
      "    In Zonguldak (Num: 737021) it is currently 62.58 Fahrenheit.\n",
      "    -----------------------------------\n",
      "\n",
      "    In Hong Kong (Num: 1819729) it is currently 86.11 Fahrenheit.\n",
      "    -----------------------------------\n",
      "\n",
      "    In Makakilo City (Num: 5850554) it is currently 80.92 Fahrenheit.\n",
      "    -----------------------------------\n",
      "\n",
      "    In Villa Carlos Paz (Num: 3832791) it is currently 54.68 Fahrenheit.\n",
      "    -----------------------------------\n",
      "\n",
      "    In Atar (Num: 2381334) it is currently 88.11 Fahrenheit.\n",
      "    -----------------------------------\n",
      "\n",
      "    In Kenai (Num: 5866063) it is currently 50.88 Fahrenheit.\n",
      "    -----------------------------------\n",
      "\n",
      "    In San Cristobal (Num: 3628473) it is currently 73.58 Fahrenheit.\n",
      "    -----------------------------------\n",
      "\n",
      "    In Maningrida (Num: 2067089) it is currently 92.66 Fahrenheit.\n",
      "    -----------------------------------\n",
      "\n",
      "    cam pha was not found.\n",
      "    -----------------------------------\n",
      "\n",
      "    riyaq was not found.\n",
      "    -----------------------------------\n",
      "\n",
      "    In Salisbury (Num: 2638664) it is currently 48.58 Fahrenheit.\n",
      "    -----------------------------------\n",
      "\n",
      "    In Alice (Num: 4670234) it is currently 84.87 Fahrenheit.\n",
      "    -----------------------------------\n",
      "\n",
      "    In Camalú (Num: 3979216) it is currently 70.2 Fahrenheit.\n",
      "    -----------------------------------\n",
      "\n",
      "    In Sakakah (Num: 102527) it is currently 80.17 Fahrenheit.\n",
      "    -----------------------------------\n",
      "\n",
      "    In San Patricio (Num: 4726521) it is currently 85.17 Fahrenheit.\n",
      "    -----------------------------------\n",
      "\n",
      "    In Dandong (Num: 2037886) it is currently 69.17 Fahrenheit.\n",
      "    -----------------------------------\n",
      "\n",
      "    In Barra do Corda (Num: 3406318) it is currently 79.77 Fahrenheit.\n",
      "    -----------------------------------\n",
      "\n",
      "    In Troitsko-Pechorsk (Num: 481548) it is currently 33.31 Fahrenheit.\n",
      "    -----------------------------------\n",
      "\n",
      "    In French Rocks (Num: 1260553) it is currently 71.87 Fahrenheit.\n",
      "    -----------------------------------\n",
      "\n",
      "    In Grindavik (Num: 3416888) it is currently 43.27 Fahrenheit.\n",
      "    -----------------------------------\n",
      "\n",
      "    gurskoye was not found.\n",
      "    -----------------------------------\n",
      "\n",
      "    In Vostok (Num: 2013279) it is currently 48.96 Fahrenheit.\n",
      "    -----------------------------------\n",
      "\n",
      "    In Ambon City (Num: 1651531) it is currently 82.54 Fahrenheit.\n",
      "    -----------------------------------\n",
      "\n",
      "    In Ankazoabo (Num: 1072879) it is currently 61.97 Fahrenheit.\n",
      "    -----------------------------------\n",
      "\n",
      "    In Freeport (Num: 5117949) it is currently 65.57 Fahrenheit.\n",
      "    -----------------------------------\n",
      "\n",
      "    In Zaysan (Num: 1517060) it is currently 47.89 Fahrenheit.\n",
      "    -----------------------------------\n",
      "\n",
      "    In Olinda (Num: 3393536) it is currently 76.73 Fahrenheit.\n",
      "    -----------------------------------\n",
      "\n",
      "    In Muros (Num: 3115824) it is currently 59.5 Fahrenheit.\n",
      "    -----------------------------------\n",
      "\n",
      "    In Kiunga (Num: 2093846) it is currently 78.01 Fahrenheit.\n",
      "    -----------------------------------\n",
      "\n",
      "    In Belyy Yar (Num: 1510377) it is currently 42.69 Fahrenheit.\n",
      "    -----------------------------------\n",
      "\n",
      "    In Zhigansk (Num: 2012530) it is currently 39.49 Fahrenheit.\n",
      "    -----------------------------------\n",
      "\n",
      "    In Namatanai (Num: 2090021) it is currently 84.63 Fahrenheit.\n",
      "    -----------------------------------\n",
      "\n",
      "    In Los Llanos de Aridane (Num: 2514651) it is currently 69.55 Fahrenheit.\n",
      "    -----------------------------------\n",
      "\n",
      "    In Sysert' (Num: 1490402) it is currently 31.98 Fahrenheit.\n",
      "    -----------------------------------\n",
      "\n",
      "    In Corpus Christi (Num: 4683416) it is currently 86.61 Fahrenheit.\n",
      "    -----------------------------------\n",
      "\n",
      "    In Lithakia (Num: 258241) it is currently 69.17 Fahrenheit.\n",
      "    -----------------------------------\n",
      "\n",
      "    In Kualakapuas (Num: 1639304) it is currently 82.56 Fahrenheit.\n",
      "    -----------------------------------\n",
      "\n",
      "    In Zhanakorgan (Num: 1517323) it is currently 57.99 Fahrenheit.\n",
      "    -----------------------------------\n",
      "\n",
      "    In Caravelas (Num: 3466980) it is currently 71.71 Fahrenheit.\n",
      "    -----------------------------------\n",
      "\n",
      "    In Guerrero Negro (Num: 4021858) it is currently 71.83 Fahrenheit.\n",
      "    -----------------------------------\n",
      "\n",
      "    In Conceição do Araguaia (Num: 3401845) it is currently 85.14 Fahrenheit.\n",
      "    -----------------------------------\n",
      "\n",
      "    In Karratha (Num: 6620339) it is currently 84.51 Fahrenheit.\n",
      "    -----------------------------------\n",
      "\n",
      "    In Grakhovo (Num: 559073) it is currently 36.36 Fahrenheit.\n",
      "    -----------------------------------\n",
      "\n",
      "    In Havøysund (Num: 779622) it is currently 43.68 Fahrenheit.\n",
      "    -----------------------------------\n",
      "\n",
      "    In Ligayan (Num: 1706466) it is currently 81.39 Fahrenheit.\n",
      "    -----------------------------------\n",
      "\n",
      "    In Laguna (Num: 5364271) it is currently 89.06 Fahrenheit.\n",
      "    -----------------------------------\n",
      "\n",
      "    In Flinders (Num: 6255012) it is currently 61.88 Fahrenheit.\n",
      "    -----------------------------------\n",
      "\n",
      "    In Belmonte (Num: 3470137) it is currently 73.9 Fahrenheit.\n",
      "    -----------------------------------\n",
      "\n",
      "    In Hasaki (Num: 2112802) it is currently 75.6 Fahrenheit.\n",
      "    -----------------------------------\n",
      "\n",
      "    In Ocampo (Num: 3994535) it is currently 60.98 Fahrenheit.\n",
      "    -----------------------------------\n",
      "\n",
      "    In Nānākuli (Num: 5851349) it is currently 82.35 Fahrenheit.\n",
      "    -----------------------------------\n",
      "\n",
      "    In Wajir (Num: 178443) it is currently 73.92 Fahrenheit.\n",
      "    -----------------------------------\n",
      "\n",
      "    In Madimba (Num: 878141) it is currently 72.07 Fahrenheit.\n",
      "    -----------------------------------\n",
      "\n",
      "    In Rawson (Num: 3839307) it is currently 56.61 Fahrenheit.\n",
      "    -----------------------------------\n",
      "\n",
      "    In Abrau-Dyurso (Num: 584365) it is currently 60.26 Fahrenheit.\n",
      "    -----------------------------------\n",
      "\n",
      "    In Yumen (Num: 1528998) it is currently 67.5 Fahrenheit.\n",
      "    -----------------------------------\n",
      "\n",
      "    In Port-Cartier (Num: 6111696) it is currently 48.42 Fahrenheit.\n",
      "    -----------------------------------\n",
      "\n",
      "    In Orgtrud (Num: 514968) it is currently 40.15 Fahrenheit.\n",
      "    -----------------------------------\n",
      "\n",
      "    In Hattiesburg (Num: 4429295) it is currently 75.81 Fahrenheit.\n",
      "    -----------------------------------\n",
      "\n",
      "    In Guangzhou (Num: 1809858) it is currently 87.75 Fahrenheit.\n",
      "    -----------------------------------\n",
      "\n",
      "    In Xining (Num: 1788852) it is currently 56.03 Fahrenheit.\n",
      "    -----------------------------------\n",
      "\n",
      "    In Sabang (Num: 1214026) it is currently 82.18 Fahrenheit.\n",
      "    -----------------------------------\n",
      "\n",
      "    In Aljezur (Num: 2271968) it is currently 65.57 Fahrenheit.\n",
      "    -----------------------------------\n",
      "\n",
      "    In Ginda (Num: 1253628) it is currently 66.56 Fahrenheit.\n",
      "    -----------------------------------\n",
      "\n",
      "    In Humboldt (Num: 5565500) it is currently 54.72 Fahrenheit.\n",
      "    -----------------------------------\n",
      "\n",
      "    In Surab (Num: 1164306) it is currently 67.48 Fahrenheit.\n",
      "    -----------------------------------\n",
      "\n",
      "    In Puerto Cabezas (Num: 3617154) it is currently 79 Fahrenheit.\n",
      "    -----------------------------------\n",
      "\n",
      "    In Gorin (Num: 2023943) it is currently 61.81 Fahrenheit.\n",
      "    -----------------------------------\n",
      "\n",
      "    In Seabra (Num: 3447928) it is currently 66.02 Fahrenheit.\n",
      "    -----------------------------------\n",
      "\n",
      "    In Dunedin (Num: 2191562) it is currently 52.09 Fahrenheit.\n",
      "    -----------------------------------\n",
      "\n",
      "    In Smithers (Num: 6149996) it is currently 48.52 Fahrenheit.\n",
      "    -----------------------------------\n",
      "\n",
      "    In Bowen (Num: 2174444) it is currently 84.42 Fahrenheit.\n",
      "    -----------------------------------\n",
      "\n",
      "    In Souillac (Num: 933995) it is currently 68.38 Fahrenheit.\n",
      "    -----------------------------------\n",
      "\n",
      "    In Alice Springs (Num: 2077895) it is currently 60.35 Fahrenheit.\n",
      "    -----------------------------------\n"
     ]
    },
    {
     "name": "stdout",
     "output_type": "stream",
     "text": [
      "\n",
      "    In Calderitas (Num: 3531816) it is currently 81.27 Fahrenheit.\n",
      "    -----------------------------------\n",
      "\n",
      "    In Karasburg (Num: 3356343) it is currently 47.52 Fahrenheit.\n",
      "    -----------------------------------\n",
      "\n",
      "    In Lakatoro (Num: 2136697) it is currently 79.65 Fahrenheit.\n",
      "    -----------------------------------\n",
      "\n",
      "    In Xichang (Num: 1789647) it is currently 68.7 Fahrenheit.\n",
      "    -----------------------------------\n",
      "\n",
      "    In Petlāwad (Num: 1259840) it is currently 74.03 Fahrenheit.\n",
      "    -----------------------------------\n",
      "\n",
      "    In Güzelyurt (Num: 313199) it is currently 54.39 Fahrenheit.\n",
      "    -----------------------------------\n",
      "\n",
      "    In Qinnan (Num: 1797575) it is currently 79.05 Fahrenheit.\n",
      "    -----------------------------------\n",
      "\n",
      "    In Kholmsk (Num: 2124615) it is currently 61.48 Fahrenheit.\n",
      "    -----------------------------------\n",
      "\n",
      "    In Arrondissement de Bastia (Num: 3034639) it is currently 63.73 Fahrenheit.\n",
      "    -----------------------------------\n",
      "\n",
      "    In Bugyi (Num: 3054606) it is currently 41.58 Fahrenheit.\n",
      "    -----------------------------------\n",
      "\n",
      "    In Bidor (Num: 1735287) it is currently 80.58 Fahrenheit.\n",
      "    -----------------------------------\n",
      "\n",
      "    In Dalbandin (Num: 1180729) it is currently 76.57 Fahrenheit.\n",
      "    -----------------------------------\n",
      "\n",
      "    In Kieta (Num: 2094027) it is currently 81.77 Fahrenheit.\n",
      "    -----------------------------------\n",
      "\n",
      "    In Obama (Num: 1854849) it is currently 79.39 Fahrenheit.\n",
      "    -----------------------------------\n",
      "\n",
      "    In Port-Gentil (Num: 2396518) it is currently 76.84 Fahrenheit.\n",
      "    -----------------------------------\n",
      "\n",
      "    In Linguère (Num: 2249281) it is currently 82.65 Fahrenheit.\n",
      "    -----------------------------------\n",
      "\n",
      "    In Acarí (Num: 3948613) it is currently 63.45 Fahrenheit.\n",
      "    -----------------------------------\n",
      "\n",
      "    In San-Pédro (Num: 2282006) it is currently 75.07 Fahrenheit.\n",
      "    -----------------------------------\n",
      "\n",
      "    In Neira (Num: 3673902) it is currently 62.69 Fahrenheit.\n",
      "    -----------------------------------\n",
      "\n",
      "    In Jambi City (Num: 1642858) it is currently 83.93 Fahrenheit.\n",
      "    -----------------------------------\n",
      "\n",
      "    In Bonthe (Num: 2409914) it is currently 77.27 Fahrenheit.\n",
      "    -----------------------------------\n",
      "\n",
      "    In Half Moon Bay (Num: 5354943) it is currently 75.92 Fahrenheit.\n",
      "    -----------------------------------\n",
      "\n",
      "    juifang was not found.\n",
      "    -----------------------------------\n",
      "\n",
      "    In Buncrana (Num: 2654332) it is currently 50.43 Fahrenheit.\n",
      "    -----------------------------------\n",
      "\n",
      "    labutta was not found.\n",
      "    -----------------------------------\n",
      "\n",
      "    In Kuala Lipis (Num: 1733023) it is currently 83.53 Fahrenheit.\n",
      "    -----------------------------------\n",
      "\n",
      "    In Hornepayne (Num: 5977046) it is currently 67.14 Fahrenheit.\n",
      "    -----------------------------------\n",
      "\n",
      "    In Camacha (Num: 2270385) it is currently 69.22 Fahrenheit.\n",
      "    -----------------------------------\n",
      "\n",
      "    In Jizan (Num: 105298) it is currently 86.94 Fahrenheit.\n",
      "    -----------------------------------\n",
      "\n",
      "    In Pedasí (Num: 3703239) it is currently 80.2 Fahrenheit.\n",
      "    -----------------------------------\n",
      "\n",
      "    In Afuá (Num: 3408269) it is currently 75.9 Fahrenheit.\n",
      "    -----------------------------------\n",
      "\n",
      "    In Zhuanghe (Num: 1784055) it is currently 69.28 Fahrenheit.\n",
      "    -----------------------------------\n",
      "\n",
      "    In Totolapan (Num: 3515200) it is currently 76.8 Fahrenheit.\n",
      "    -----------------------------------\n",
      "\n",
      "    In Leninsk (Num: 536156) it is currently 51.66 Fahrenheit.\n",
      "    -----------------------------------\n",
      "\n",
      "    In Lebanon (Num: 4636045) it is currently 69.78 Fahrenheit.\n",
      "    -----------------------------------\n",
      "\n",
      "    In Summerville (Num: 4597919) it is currently 73.22 Fahrenheit.\n",
      "    -----------------------------------\n",
      "\n",
      "    In Kasongo-Lunda (Num: 2315026) it is currently 77.65 Fahrenheit.\n",
      "    -----------------------------------\n",
      "\n",
      "    In Bonfim (Num: 3405215) it is currently 78.67 Fahrenheit.\n",
      "    -----------------------------------\n",
      "\n",
      "    malwan was not found.\n",
      "    -----------------------------------\n",
      "\n",
      "    In Forsytheganj (Num: 10722858) it is currently 40.26 Fahrenheit.\n",
      "    -----------------------------------\n",
      "\n",
      "    In Rørvik (Num: 3141310) it is currently 46.42 Fahrenheit.\n",
      "    -----------------------------------\n",
      "\n",
      "    In Hurghada (Num: 361291) it is currently 86.04 Fahrenheit.\n",
      "    -----------------------------------\n",
      "\n",
      "    In Illela (Num: 2337680) it is currently 83.8 Fahrenheit.\n",
      "    -----------------------------------\n",
      "\n",
      "    In Pishin (Num: 1167821) it is currently 70.09 Fahrenheit.\n",
      "    -----------------------------------\n",
      "\n",
      "    In Kilimatinde (Num: 157448) it is currently 64.89 Fahrenheit.\n",
      "    -----------------------------------\n",
      "\n",
      "    In East Brainerd (Num: 4619943) it is currently 69.57 Fahrenheit.\n",
      "    -----------------------------------\n",
      "\n",
      "    In North Canton (Num: 5164706) it is currently 71.82 Fahrenheit.\n",
      "    -----------------------------------\n",
      "\n",
      "    In Tanout (Num: 2439155) it is currently 87.4 Fahrenheit.\n",
      "    -----------------------------------\n",
      "\n",
      "    In Baruun-Urt (Num: 2032614) it is currently 58.6 Fahrenheit.\n",
      "    -----------------------------------\n",
      "\n",
      "    In La Santisima Trinidad (Num: 3902377) it is currently 84.96 Fahrenheit.\n",
      "    -----------------------------------\n",
      "\n",
      "    In Cao Bang (Num: 1586185) it is currently 85.68 Fahrenheit.\n",
      "    -----------------------------------\n",
      "\n",
      "    In Cayenne (Num: 3382160) it is currently 77.04 Fahrenheit.\n",
      "    -----------------------------------\n",
      "\n",
      "    In Yatou (Num: 1786855) it is currently 74.84 Fahrenheit.\n",
      "    -----------------------------------\n",
      "\n",
      "    In Puerto Maldonado (Num: 3931470) it is currently 81.73 Fahrenheit.\n",
      "    -----------------------------------\n",
      "\n",
      "    In Grand Gaube (Num: 934479) it is currently 68.4 Fahrenheit.\n",
      "    -----------------------------------\n",
      "\n",
      "    In Siuna (Num: 3616253) it is currently 72.52 Fahrenheit.\n",
      "    -----------------------------------\n",
      "\n",
      "    In Uyar (Num: 1487922) it is currently 41.11 Fahrenheit.\n",
      "    -----------------------------------\n",
      "\n",
      "    In Nalbari (Num: 1258492) it is currently 82.38 Fahrenheit.\n",
      "    -----------------------------------\n",
      "\n",
      "    In Inverness (Num: 2646088) it is currently 53.51 Fahrenheit.\n",
      "    -----------------------------------\n",
      "\n",
      "    In Kanniyākumāri (Num: 1268008) it is currently 80.49 Fahrenheit.\n",
      "    -----------------------------------\n",
      "\n",
      "    In Deloraine (Num: 2169113) it is currently 50.79 Fahrenheit.\n",
      "    -----------------------------------\n",
      "\n",
      "    mudyuga was not found.\n",
      "    -----------------------------------\n",
      "\n",
      "    In Nizhniy Kuranakh (Num: 2019135) it is currently 48.33 Fahrenheit.\n",
      "    -----------------------------------\n",
      "\n",
      "    In Yārāda (Num: 1252783) it is currently 80.92 Fahrenheit.\n",
      "    -----------------------------------\n",
      "\n",
      "    In Alenquer (Num: 3407980) it is currently 77.34 Fahrenheit.\n",
      "    -----------------------------------\n",
      "\n",
      "    In Oussouye (Num: 2246901) it is currently 80.78 Fahrenheit.\n",
      "    -----------------------------------\n",
      "\n",
      "    In New Plymouth (Num: 2186239) it is currently 57.43 Fahrenheit.\n",
      "    -----------------------------------\n",
      "\n",
      "    In Kysyl-Syr (Num: 2021017) it is currently 42.71 Fahrenheit.\n",
      "    -----------------------------------\n",
      "\n",
      "    In Makkah al Mukarramah (Num: 104515) it is currently 91.38 Fahrenheit.\n",
      "    -----------------------------------\n",
      "\n",
      "    In Zhangaözen (Num: 607610) it is currently 64.63 Fahrenheit.\n",
      "    -----------------------------------\n",
      "\n",
      "    In San Fernando del Valle de Catamarca (Num: 3837702) it is currently 62.96 Fahrenheit.\n",
      "    -----------------------------------\n",
      "\n",
      "    In Kralendijk (Num: 3513563) it is currently 83.01 Fahrenheit.\n",
      "    -----------------------------------\n",
      "\n",
      "    In Eyl (Num: 60019) it is currently 76.08 Fahrenheit.\n",
      "    -----------------------------------\n",
      "\n",
      "    In Tomatlán (Num: 3981391) it is currently 75.47 Fahrenheit.\n",
      "    -----------------------------------\n",
      "\n",
      "    In Payo (Num: 1638775) it is currently 75.58 Fahrenheit.\n",
      "    -----------------------------------\n",
      "\n",
      "    In Comodoro Rivadavia (Num: 3860443) it is currently 48.06 Fahrenheit.\n",
      "    -----------------------------------\n",
      "\n",
      "    In Kodinsk (Num: 1503037) it is currently 41.7 Fahrenheit.\n",
      "    -----------------------------------\n",
      "\n",
      "    In Molchanovo (Num: 1498493) it is currently 36.1 Fahrenheit.\n",
      "    -----------------------------------\n",
      "\n",
      "    In Winnemucca (Num: 5710360) it is currently 60.24 Fahrenheit.\n",
      "    -----------------------------------\n"
     ]
    },
    {
     "name": "stdout",
     "output_type": "stream",
     "text": [
      "\n",
      "    In Paragominas (Num: 3393106) it is currently 72.84 Fahrenheit.\n",
      "    -----------------------------------\n",
      "\n",
      "    In Bixby (Num: 4530801) it is currently 87.6 Fahrenheit.\n",
      "    -----------------------------------\n",
      "\n",
      "    In Timaru (Num: 2181133) it is currently 61.32 Fahrenheit.\n",
      "    -----------------------------------\n",
      "\n",
      "    viligili was not found.\n",
      "    -----------------------------------\n",
      "\n",
      "    In Bariloche (Num: 7647007) it is currently 42.55 Fahrenheit.\n",
      "    -----------------------------------\n",
      "\n",
      "    In Kalispell (Num: 5660340) it is currently 51.73 Fahrenheit.\n",
      "    -----------------------------------\n",
      "\n",
      "    In Jalu (Num: 86049) it is currently 82.26 Fahrenheit.\n",
      "    -----------------------------------\n",
      "\n",
      "    In Vanimo (Num: 2084442) it is currently 86.11 Fahrenheit.\n",
      "    -----------------------------------\n",
      "\n",
      "    In Manicoré (Num: 3663503) it is currently 77.74 Fahrenheit.\n",
      "    -----------------------------------\n",
      "\n",
      "    In Lingao (Num: 1803560) it is currently 85.33 Fahrenheit.\n",
      "    -----------------------------------\n",
      "\n",
      "    In Mēga (Num: 331259) it is currently 58.26 Fahrenheit.\n",
      "    -----------------------------------\n",
      "\n",
      "    In Kharp (Num: 1503726) it is currently 37.31 Fahrenheit.\n",
      "    -----------------------------------\n",
      "\n",
      "    fevralsk was not found.\n",
      "    -----------------------------------\n",
      "\n",
      "    In Tucumcari (Num: 5495360) it is currently 72.39 Fahrenheit.\n",
      "    -----------------------------------\n",
      "\n",
      "    In Jiuquan (Num: 1279945) it is currently 72.18 Fahrenheit.\n",
      "    -----------------------------------\n",
      "\n",
      "    In Province of Mantua (Num: 3174050) it is currently 61.41 Fahrenheit.\n",
      "    -----------------------------------\n",
      "\n",
      "    In Monrovia (Num: 2274895) it is currently 77.22 Fahrenheit.\n",
      "    -----------------------------------\n",
      "\n",
      "    In Eureka (Num: 5563397) it is currently 63.79 Fahrenheit.\n",
      "    -----------------------------------\n",
      "\n",
      "    In Muhafazat Lahij (Num: 6201197) it is currently 80.46 Fahrenheit.\n",
      "    -----------------------------------\n",
      "\n",
      "    In Yulara (Num: 6355222) it is currently 58.84 Fahrenheit.\n",
      "    -----------------------------------\n",
      "\n",
      "    In Kastamonu Province (Num: 743881) it is currently 57.22 Fahrenheit.\n",
      "    -----------------------------------\n",
      "\n",
      "    In Viedma (Num: 3832899) it is currently 46.35 Fahrenheit.\n",
      "    -----------------------------------\n",
      "\n",
      "    In Pandan (Num: 1695546) it is currently 85.26 Fahrenheit.\n",
      "    -----------------------------------\n",
      "\n",
      "    In Yangi Marg`ilon (Num: 1513491) it is currently 61.48 Fahrenheit.\n",
      "    -----------------------------------\n",
      "\n",
      "    In Port Macquarie (Num: 2152659) it is currently 62.56 Fahrenheit.\n",
      "    -----------------------------------\n",
      "\n",
      "    In Verkhnevilyuysk (Num: 2013639) it is currently 43.39 Fahrenheit.\n",
      "    -----------------------------------\n",
      "\n",
      "    In Örnsköldsvik (Num: 2686469) it is currently 40.15 Fahrenheit.\n",
      "    -----------------------------------\n",
      "\n",
      "    In Derzhavīnsk (Num: 1524606) it is currently 35.73 Fahrenheit.\n",
      "    -----------------------------------\n",
      "\n",
      "    In Sandakan (Num: 1734052) it is currently 78.48 Fahrenheit.\n",
      "    -----------------------------------\n",
      "\n",
      "    karkaralinsk was not found.\n",
      "    -----------------------------------\n",
      "\n",
      "    In Carson City (Num: 5501344) it is currently 68.34 Fahrenheit.\n",
      "    -----------------------------------\n",
      "\n",
      "    In Butembo (Num: 217562) it is currently 56.68 Fahrenheit.\n",
      "    -----------------------------------\n",
      "\n",
      "    In Mashhad (Num: 124665) it is currently 59.14 Fahrenheit.\n",
      "    -----------------------------------\n",
      "\n",
      "    marcona was not found.\n",
      "    -----------------------------------\n",
      "\n",
      "    In Luanda (Num: 2240449) it is currently 73.4 Fahrenheit.\n",
      "    -----------------------------------\n",
      "\n",
      "    el faiyum was not found.\n",
      "    -----------------------------------\n",
      "\n",
      "    In Marzuq (Num: 72181) it is currently 75.61 Fahrenheit.\n",
      "    -----------------------------------\n",
      "\n",
      "    In Dauphin (Num: 5935341) it is currently 57.34 Fahrenheit.\n",
      "    -----------------------------------\n",
      "\n",
      "    In Ţahţā (Num: 347634) it is currently 84.52 Fahrenheit.\n",
      "    -----------------------------------\n",
      "\n",
      "    In Iberia (Num: 4328254) it is currently 78.78 Fahrenheit.\n",
      "    -----------------------------------\n",
      "\n",
      "    In Monino (Num: 525396) it is currently 42.53 Fahrenheit.\n",
      "    -----------------------------------\n",
      "\n",
      "    In Nome (Num: 5870133) it is currently 38.7 Fahrenheit.\n",
      "    -----------------------------------\n",
      "\n",
      "    In Magliman (Num: 1960765) it is currently 86.05 Fahrenheit.\n",
      "    -----------------------------------\n",
      "\n",
      "    In Hillsborough (Num: 5357155) it is currently 77.18 Fahrenheit.\n",
      "    -----------------------------------\n",
      "\n",
      "    In Houma (Num: 4328010) it is currently 78.8 Fahrenheit.\n",
      "    -----------------------------------\n",
      "\n",
      "    In Nushki (Num: 1168749) it is currently 72.75 Fahrenheit.\n",
      "    -----------------------------------\n",
      "\n",
      "    In Duncan (Num: 4535389) it is currently 85.89 Fahrenheit.\n",
      "    -----------------------------------\n",
      "\n",
      "    rostaq was not found.\n",
      "    -----------------------------------\n",
      "\n",
      "    In Talnakh (Num: 1490256) it is currently 34.21 Fahrenheit.\n",
      "    -----------------------------------\n",
      "\n",
      "    In Thongwa (Num: 1291193) it is currently 77.16 Fahrenheit.\n",
      "    -----------------------------------\n",
      "\n",
      "    In Arrondissement de Saint-Denis (Num: 2980915) it is currently 54.43 Fahrenheit.\n",
      "    -----------------------------------\n",
      "\n",
      "    braslav was not found.\n",
      "    -----------------------------------\n",
      "\n",
      "    In Zahnitkiv (Num: 618453) it is currently 44.62 Fahrenheit.\n",
      "    -----------------------------------\n",
      "\n",
      "    In Beyneu (Num: 610298) it is currently 60.15 Fahrenheit.\n",
      "    -----------------------------------\n",
      "\n",
      "    In Kanganpur (Num: 1174984) it is currently 83.1 Fahrenheit.\n",
      "    -----------------------------------\n",
      "\n",
      "    In Santa Fe (Num: 3836277) it is currently 60.71 Fahrenheit.\n",
      "    -----------------------------------\n",
      "\n",
      "    In Nokaneng (Num: 933211) it is currently 69.69 Fahrenheit.\n",
      "    -----------------------------------\n",
      "\n",
      "    ruatoria was not found.\n",
      "    -----------------------------------\n",
      "\n",
      "    In Lüderitz (Num: 3355672) it is currently 57.96 Fahrenheit.\n",
      "    -----------------------------------\n",
      "\n",
      "    In Linhares (Num: 3458498) it is currently 68.25 Fahrenheit.\n",
      "    -----------------------------------\n",
      "\n",
      "    In Lençóis Paulista (Num: 3458645) it is currently 91.89 Fahrenheit.\n",
      "    -----------------------------------\n",
      "\n",
      "    In Terney (Num: 2015352) it is currently 61.47 Fahrenheit.\n",
      "    -----------------------------------\n",
      "\n",
      "    In Lodeynoye Pole (Num: 534560) it is currently 34.9 Fahrenheit.\n",
      "    -----------------------------------\n",
      "\n",
      "    In Cockburn Town (Num: 3576994) it is currently 83.03 Fahrenheit.\n",
      "    -----------------------------------\n",
      "\n",
      "    jahrom was not found.\n",
      "    -----------------------------------\n",
      "\n",
      "    In Ostashkov (Num: 514259) it is currently 36.88 Fahrenheit.\n",
      "    -----------------------------------\n",
      "\n",
      "    In Sur (Num: 286245) it is currently 83.75 Fahrenheit.\n",
      "    -----------------------------------\n"
     ]
    }
   ],
   "source": [
    "#loop through each city generated\n",
    "for city, country in city_country:\n",
    "    #create a url for the city \n",
    "    search_url = f\"http://api.openweathermap.org/data/2.5/weather?q={city.replace(' ', '+')}&appid={weather_api_key}&units=imperial\"\n",
    "    #pull a response using the API\n",
    "    response = requests.get(search_url).json()\n",
    "    #add weather data if available if not add None and then print the city name and current temp\n",
    "    try:\n",
    "        weather_df = weather_df.append({\"City\": response['name'],\n",
    "                                        \"Country\": response['sys']['country'],\n",
    "                                        \"Lat\": response['coord']['lat'],\n",
    "                                        \"Lon\": response['coord']['lon'],\n",
    "                      \"Temperature (F)\": response['main']['temp'],\n",
    "                      \"Humidity (%)\": response['main']['humidity'], \n",
    "                      \"Cloudiness (%)\": response['clouds']['all'],\n",
    "                      \"Wind Speed (mph)\": response['wind']['speed']}, ignore_index = True)\n",
    "        print(f'''\n",
    "    In {response['name']} (Num: {response['id']}) it is currently {response['main']['temp']} Fahrenheit.\n",
    "    -----------------------------------''')\n",
    "    except:\n",
    "        weather_df = weather_df.append({\"City\": city,\n",
    "                                        \"Country\": country,\n",
    "                                        \"Lat\": None,\n",
    "                                        \"Lon\": None,\n",
    "                      \"Temperature (F)\": None,\n",
    "                      \"Humidity (%)\": None, \n",
    "                      \"Cloudiness (%)\": None,\n",
    "                      \"Wind Speed (mph)\": None}, ignore_index = True)\n",
    "        print(f'''\n",
    "    {city} was not found.\n",
    "    -----------------------------------''')"
   ]
  },
  {
   "cell_type": "markdown",
   "metadata": {},
   "source": [
    "### Convert Raw Data to DataFrame\n",
    "* Export the city data into a .csv.\n",
    "* Display the DataFrame"
   ]
  },
  {
   "cell_type": "code",
   "execution_count": 7,
   "metadata": {},
   "outputs": [],
   "source": [
    "#exporting to csv\n",
    "weather_df.to_csv('Weather Check2.csv')"
   ]
  },
  {
   "cell_type": "code",
   "execution_count": 8,
   "metadata": {},
   "outputs": [
    {
     "data": {
      "text/html": [
       "<div>\n",
       "<style scoped>\n",
       "    .dataframe tbody tr th:only-of-type {\n",
       "        vertical-align: middle;\n",
       "    }\n",
       "\n",
       "    .dataframe tbody tr th {\n",
       "        vertical-align: top;\n",
       "    }\n",
       "\n",
       "    .dataframe thead th {\n",
       "        text-align: right;\n",
       "    }\n",
       "</style>\n",
       "<table border=\"1\" class=\"dataframe\">\n",
       "  <thead>\n",
       "    <tr style=\"text-align: right;\">\n",
       "      <th></th>\n",
       "      <th>City</th>\n",
       "      <th>Country</th>\n",
       "      <th>Lat</th>\n",
       "      <th>Lon</th>\n",
       "      <th>Temperature (F)</th>\n",
       "      <th>Humidity (%)</th>\n",
       "      <th>Cloudiness (%)</th>\n",
       "      <th>Wind Speed (mph)</th>\n",
       "    </tr>\n",
       "  </thead>\n",
       "  <tbody>\n",
       "    <tr>\n",
       "      <th>0</th>\n",
       "      <td>Båtsfjord</td>\n",
       "      <td>NO</td>\n",
       "      <td>70.6345</td>\n",
       "      <td>29.7185</td>\n",
       "      <td>38.39</td>\n",
       "      <td>77.0</td>\n",
       "      <td>51.0</td>\n",
       "      <td>25.66</td>\n",
       "    </tr>\n",
       "    <tr>\n",
       "      <th>1</th>\n",
       "      <td>Tiksi</td>\n",
       "      <td>RU</td>\n",
       "      <td>71.6872</td>\n",
       "      <td>128.8694</td>\n",
       "      <td>36.63</td>\n",
       "      <td>71.0</td>\n",
       "      <td>100.0</td>\n",
       "      <td>9.69</td>\n",
       "    </tr>\n",
       "    <tr>\n",
       "      <th>2</th>\n",
       "      <td>Hithadhoo</td>\n",
       "      <td>MV</td>\n",
       "      <td>-0.6000</td>\n",
       "      <td>73.0833</td>\n",
       "      <td>83.26</td>\n",
       "      <td>73.0</td>\n",
       "      <td>100.0</td>\n",
       "      <td>12.26</td>\n",
       "    </tr>\n",
       "    <tr>\n",
       "      <th>3</th>\n",
       "      <td>Calama</td>\n",
       "      <td>CL</td>\n",
       "      <td>-22.4667</td>\n",
       "      <td>-68.9333</td>\n",
       "      <td>53.98</td>\n",
       "      <td>27.0</td>\n",
       "      <td>55.0</td>\n",
       "      <td>0.94</td>\n",
       "    </tr>\n",
       "    <tr>\n",
       "      <th>4</th>\n",
       "      <td>Punta Arenas</td>\n",
       "      <td>CL</td>\n",
       "      <td>-53.1500</td>\n",
       "      <td>-70.9167</td>\n",
       "      <td>51.91</td>\n",
       "      <td>66.0</td>\n",
       "      <td>75.0</td>\n",
       "      <td>17.27</td>\n",
       "    </tr>\n",
       "  </tbody>\n",
       "</table>\n",
       "</div>"
      ],
      "text/plain": [
       "           City Country      Lat       Lon  Temperature (F)  Humidity (%)  \\\n",
       "0     Båtsfjord      NO  70.6345   29.7185            38.39          77.0   \n",
       "1         Tiksi      RU  71.6872  128.8694            36.63          71.0   \n",
       "2     Hithadhoo      MV  -0.6000   73.0833            83.26          73.0   \n",
       "3        Calama      CL -22.4667  -68.9333            53.98          27.0   \n",
       "4  Punta Arenas      CL -53.1500  -70.9167            51.91          66.0   \n",
       "\n",
       "   Cloudiness (%)  Wind Speed (mph)  \n",
       "0            51.0             25.66  \n",
       "1           100.0              9.69  \n",
       "2           100.0             12.26  \n",
       "3            55.0              0.94  \n",
       "4            75.0             17.27  "
      ]
     },
     "execution_count": 8,
     "metadata": {},
     "output_type": "execute_result"
    }
   ],
   "source": [
    "#calling df\n",
    "weather_df.head()"
   ]
  },
  {
   "cell_type": "markdown",
   "metadata": {},
   "source": [
    "## Inspect the data and remove the cities where the humidity > 100%.\n",
    "----\n",
    "Skip this step if there are no cities that have humidity > 100%. "
   ]
  },
  {
   "cell_type": "code",
   "execution_count": 9,
   "metadata": {},
   "outputs": [
    {
     "data": {
      "text/html": [
       "<div>\n",
       "<style scoped>\n",
       "    .dataframe tbody tr th:only-of-type {\n",
       "        vertical-align: middle;\n",
       "    }\n",
       "\n",
       "    .dataframe tbody tr th {\n",
       "        vertical-align: top;\n",
       "    }\n",
       "\n",
       "    .dataframe thead th {\n",
       "        text-align: right;\n",
       "    }\n",
       "</style>\n",
       "<table border=\"1\" class=\"dataframe\">\n",
       "  <thead>\n",
       "    <tr style=\"text-align: right;\">\n",
       "      <th></th>\n",
       "      <th>City</th>\n",
       "      <th>Country</th>\n",
       "      <th>Lat</th>\n",
       "      <th>Lon</th>\n",
       "      <th>Temperature (F)</th>\n",
       "      <th>Humidity (%)</th>\n",
       "      <th>Cloudiness (%)</th>\n",
       "      <th>Wind Speed (mph)</th>\n",
       "    </tr>\n",
       "  </thead>\n",
       "  <tbody>\n",
       "  </tbody>\n",
       "</table>\n",
       "</div>"
      ],
      "text/plain": [
       "Empty DataFrame\n",
       "Columns: [City, Country, Lat, Lon, Temperature (F), Humidity (%), Cloudiness (%), Wind Speed (mph)]\n",
       "Index: []"
      ]
     },
     "execution_count": 9,
     "metadata": {},
     "output_type": "execute_result"
    }
   ],
   "source": [
    "#check if there are cities with humidity over 100%\n",
    "humid_df = weather_df[weather_df['Humidity (%)']>100]\n",
    "humid_df.head()"
   ]
  },
  {
   "cell_type": "code",
   "execution_count": 10,
   "metadata": {},
   "outputs": [
    {
     "data": {
      "text/html": [
       "<div>\n",
       "<style scoped>\n",
       "    .dataframe tbody tr th:only-of-type {\n",
       "        vertical-align: middle;\n",
       "    }\n",
       "\n",
       "    .dataframe tbody tr th {\n",
       "        vertical-align: top;\n",
       "    }\n",
       "\n",
       "    .dataframe thead th {\n",
       "        text-align: right;\n",
       "    }\n",
       "</style>\n",
       "<table border=\"1\" class=\"dataframe\">\n",
       "  <thead>\n",
       "    <tr style=\"text-align: right;\">\n",
       "      <th></th>\n",
       "      <th>City</th>\n",
       "      <th>Country</th>\n",
       "      <th>Lat</th>\n",
       "      <th>Lon</th>\n",
       "      <th>Temperature (F)</th>\n",
       "      <th>Humidity (%)</th>\n",
       "      <th>Cloudiness (%)</th>\n",
       "      <th>Wind Speed (mph)</th>\n",
       "    </tr>\n",
       "  </thead>\n",
       "  <tbody>\n",
       "    <tr>\n",
       "      <th>320</th>\n",
       "      <td>Kalmar</td>\n",
       "      <td>SE</td>\n",
       "      <td>56.6616</td>\n",
       "      <td>16.3616</td>\n",
       "      <td>40.93</td>\n",
       "      <td>100.0</td>\n",
       "      <td>40.0</td>\n",
       "      <td>2.30</td>\n",
       "    </tr>\n",
       "    <tr>\n",
       "      <th>237</th>\n",
       "      <td>Sept-Îles</td>\n",
       "      <td>CA</td>\n",
       "      <td>50.2001</td>\n",
       "      <td>-66.3821</td>\n",
       "      <td>48.72</td>\n",
       "      <td>100.0</td>\n",
       "      <td>40.0</td>\n",
       "      <td>4.61</td>\n",
       "    </tr>\n",
       "    <tr>\n",
       "      <th>492</th>\n",
       "      <td>Yārāda</td>\n",
       "      <td>IN</td>\n",
       "      <td>17.6500</td>\n",
       "      <td>83.2667</td>\n",
       "      <td>80.92</td>\n",
       "      <td>100.0</td>\n",
       "      <td>90.0</td>\n",
       "      <td>2.30</td>\n",
       "    </tr>\n",
       "    <tr>\n",
       "      <th>94</th>\n",
       "      <td>Hambantota</td>\n",
       "      <td>LK</td>\n",
       "      <td>6.1241</td>\n",
       "      <td>81.1185</td>\n",
       "      <td>77.34</td>\n",
       "      <td>100.0</td>\n",
       "      <td>40.0</td>\n",
       "      <td>5.75</td>\n",
       "    </tr>\n",
       "    <tr>\n",
       "      <th>169</th>\n",
       "      <td>Nkoteng</td>\n",
       "      <td>CM</td>\n",
       "      <td>4.5167</td>\n",
       "      <td>12.0333</td>\n",
       "      <td>69.12</td>\n",
       "      <td>99.0</td>\n",
       "      <td>100.0</td>\n",
       "      <td>3.11</td>\n",
       "    </tr>\n",
       "    <tr>\n",
       "      <th>...</th>\n",
       "      <td>...</td>\n",
       "      <td>...</td>\n",
       "      <td>...</td>\n",
       "      <td>...</td>\n",
       "      <td>...</td>\n",
       "      <td>...</td>\n",
       "      <td>...</td>\n",
       "      <td>...</td>\n",
       "    </tr>\n",
       "    <tr>\n",
       "      <th>543</th>\n",
       "      <td>el faiyum</td>\n",
       "      <td>eg</td>\n",
       "      <td>NaN</td>\n",
       "      <td>NaN</td>\n",
       "      <td>NaN</td>\n",
       "      <td>NaN</td>\n",
       "      <td>NaN</td>\n",
       "      <td>NaN</td>\n",
       "    </tr>\n",
       "    <tr>\n",
       "      <th>555</th>\n",
       "      <td>rostaq</td>\n",
       "      <td>af</td>\n",
       "      <td>NaN</td>\n",
       "      <td>NaN</td>\n",
       "      <td>NaN</td>\n",
       "      <td>NaN</td>\n",
       "      <td>NaN</td>\n",
       "      <td>NaN</td>\n",
       "    </tr>\n",
       "    <tr>\n",
       "      <th>559</th>\n",
       "      <td>braslav</td>\n",
       "      <td>by</td>\n",
       "      <td>NaN</td>\n",
       "      <td>NaN</td>\n",
       "      <td>NaN</td>\n",
       "      <td>NaN</td>\n",
       "      <td>NaN</td>\n",
       "      <td>NaN</td>\n",
       "    </tr>\n",
       "    <tr>\n",
       "      <th>565</th>\n",
       "      <td>ruatoria</td>\n",
       "      <td>nz</td>\n",
       "      <td>NaN</td>\n",
       "      <td>NaN</td>\n",
       "      <td>NaN</td>\n",
       "      <td>NaN</td>\n",
       "      <td>NaN</td>\n",
       "      <td>NaN</td>\n",
       "    </tr>\n",
       "    <tr>\n",
       "      <th>572</th>\n",
       "      <td>jahrom</td>\n",
       "      <td>ir</td>\n",
       "      <td>NaN</td>\n",
       "      <td>NaN</td>\n",
       "      <td>NaN</td>\n",
       "      <td>NaN</td>\n",
       "      <td>NaN</td>\n",
       "      <td>NaN</td>\n",
       "    </tr>\n",
       "  </tbody>\n",
       "</table>\n",
       "<p>575 rows × 8 columns</p>\n",
       "</div>"
      ],
      "text/plain": [
       "           City Country      Lat      Lon  Temperature (F)  Humidity (%)  \\\n",
       "320      Kalmar      SE  56.6616  16.3616            40.93         100.0   \n",
       "237   Sept-Îles      CA  50.2001 -66.3821            48.72         100.0   \n",
       "492      Yārāda      IN  17.6500  83.2667            80.92         100.0   \n",
       "94   Hambantota      LK   6.1241  81.1185            77.34         100.0   \n",
       "169     Nkoteng      CM   4.5167  12.0333            69.12          99.0   \n",
       "..          ...     ...      ...      ...              ...           ...   \n",
       "543   el faiyum      eg      NaN      NaN              NaN           NaN   \n",
       "555      rostaq      af      NaN      NaN              NaN           NaN   \n",
       "559     braslav      by      NaN      NaN              NaN           NaN   \n",
       "565    ruatoria      nz      NaN      NaN              NaN           NaN   \n",
       "572      jahrom      ir      NaN      NaN              NaN           NaN   \n",
       "\n",
       "     Cloudiness (%)  Wind Speed (mph)  \n",
       "320            40.0              2.30  \n",
       "237            40.0              4.61  \n",
       "492            90.0              2.30  \n",
       "94             40.0              5.75  \n",
       "169           100.0              3.11  \n",
       "..              ...               ...  \n",
       "543             NaN               NaN  \n",
       "555             NaN               NaN  \n",
       "559             NaN               NaN  \n",
       "565             NaN               NaN  \n",
       "572             NaN               NaN  \n",
       "\n",
       "[575 rows x 8 columns]"
      ]
     },
     "execution_count": 10,
     "metadata": {},
     "output_type": "execute_result"
    }
   ],
   "source": [
    "humid_df_2 = weather_df.sort_values('Humidity (%)', ascending = False)\n",
    "humid_df_2"
   ]
  },
  {
   "cell_type": "code",
   "execution_count": 11,
   "metadata": {},
   "outputs": [],
   "source": [
    "#  Get the indices of cities that have humidity over 100%.\n",
    "\n",
    "##No instances where humidity is over 100%"
   ]
  },
  {
   "cell_type": "code",
   "execution_count": 12,
   "metadata": {},
   "outputs": [],
   "source": [
    "# Make a new DataFrame equal to the city data to drop all humidity outliers by index.\n",
    "# Passing \"inplace=False\" will make a copy of the city_data DataFrame, which we call \"clean_city_data\".\n",
    "\n",
    "##No instances where humidity is over 100%"
   ]
  },
  {
   "cell_type": "markdown",
   "metadata": {},
   "source": [
    "## Plotting the Data\n",
    "* Use proper labeling of the plots using plot titles (including date of analysis) and axes labels.\n",
    "* Save the plotted figures as .pngs."
   ]
  },
  {
   "cell_type": "markdown",
   "metadata": {},
   "source": [
    "## Latitude vs. Temperature Plot"
   ]
  },
  {
   "cell_type": "code",
   "execution_count": 13,
   "metadata": {},
   "outputs": [
    {
     "data": {
      "text/plain": [
       "575"
      ]
     },
     "execution_count": 13,
     "metadata": {},
     "output_type": "execute_result"
    }
   ],
   "source": [
    "len(weather_df['Temperature (F)'])"
   ]
  },
  {
   "cell_type": "code",
   "execution_count": 14,
   "metadata": {
    "scrolled": true
   },
   "outputs": [
    {
     "data": {
      "image/png": "[encoded data removed]",
      "text/plain": [
       "<Figure size 432x288 with 1 Axes>"
      ]
     },
     "metadata": {
      "needs_background": "light"
     },
     "output_type": "display_data"
    }
   ],
   "source": [
    "fig, ax = plt.subplots();\n",
    "ax.scatter(weather_df['Lat'], weather_df['Temperature (F)']);\n",
    "ax.set(title = \"Latitude vs. Temperature Plot\",\n",
    "      xlabel = \"City Latitude\",\n",
    "      ylabel = 'Temperature (F)');\n",
    "plt.savefig('Latitude vs. Temperature Plot.png', bbox_inches='tight');"
   ]
  },
  {
   "cell_type": "markdown",
   "metadata": {},
   "source": [
    "This plot is analyzing the relationship between a city's temperature and latitde. Based on the plot produced, it seems that temperature seems to be lower in cities where the latitude is either very high or very low meaning the farther away from the equator a city is, the colder it will be."
   ]
  },
  {
   "cell_type": "markdown",
   "metadata": {},
   "source": [
    "## Latitude vs. Humidity Plot"
   ]
  },
  {
   "cell_type": "code",
   "execution_count": 15,
   "metadata": {},
   "outputs": [
    {
     "data": {
      "image/png": "[encoded data removed]",
      "text/plain": [
       "<Figure size 432x288 with 1 Axes>"
      ]
     },
     "metadata": {
      "needs_background": "light"
     },
     "output_type": "display_data"
    }
   ],
   "source": [
    "fig2, ax2 = plt.subplots();\n",
    "ax2.scatter(weather_df['Lat'], weather_df['Humidity (%)']);\n",
    "ax2.set(title = \"Latitude vs. Humidity Plot\",\n",
    "      xlabel = \"City Latitude\",\n",
    "      ylabel = 'Humidity (%)');\n",
    "plt.savefig('Latitude vs. Humidity Plot.png', bbox_inches='tight')"
   ]
  },
  {
   "cell_type": "markdown",
   "metadata": {},
   "source": [
    "This plot is analyzing the relationship between a city's humidity and latitde. Based on the plot produced, it seems that there is no apparent pattern in the way latitude is related to humidity. However, from the cities within our data frame, it seems humidity tends to be relatively high.  "
   ]
  },
  {
   "cell_type": "markdown",
   "metadata": {},
   "source": [
    "## Latitude vs. Cloudiness Plot"
   ]
  },
  {
   "cell_type": "code",
   "execution_count": 16,
   "metadata": {},
   "outputs": [
    {
     "data": {
      "image/png": "[encoded data removed]",
      "text/plain": [
       "<Figure size 432x288 with 1 Axes>"
      ]
     },
     "metadata": {
      "needs_background": "light"
     },
     "output_type": "display_data"
    }
   ],
   "source": [
    "fig3, ax3 = plt.subplots();\n",
    "ax3.scatter(weather_df['Lat'], weather_df['Cloudiness (%)']);\n",
    "ax3.set(title = \"Latitude vs. Cloudiness Plot\",\n",
    "      xlabel = \"City Latitude\",\n",
    "      ylabel = 'Cloudiness (%)');\n",
    "plt.savefig('Latitude vs. Cloudiness Plot.png', bbox_inches='tight')"
   ]
  },
  {
   "cell_type": "markdown",
   "metadata": {},
   "source": [
    "This plot is analyzing the relationship between a city's cloudiness and latitde. Based on the plot produced, it seems that there is no apparent pattern in the way latitude is related to cloudiness."
   ]
  },
  {
   "cell_type": "markdown",
   "metadata": {},
   "source": [
    "## Latitude vs. Wind Speed Plot"
   ]
  },
  {
   "cell_type": "code",
   "execution_count": 17,
   "metadata": {},
   "outputs": [
    {
     "data": {
      "image/png": "[encoded data removed]",
      "text/plain": [
       "<Figure size 432x288 with 1 Axes>"
      ]
     },
     "metadata": {
      "needs_background": "light"
     },
     "output_type": "display_data"
    }
   ],
   "source": [
    "fig4, ax4 = plt.subplots();\n",
    "ax4.scatter(weather_df['Lat'], weather_df['Wind Speed (mph)']);\n",
    "ax4.set(title = \"Latitude vs. Wind Speed Plot\",\n",
    "      xlabel = \"City Latitude\",\n",
    "      ylabel = 'Wind Speed (mph)');\n",
    "plt.savefig('Latitude vs. Wind Speed Plot.png', bbox_inches='tight')"
   ]
  },
  {
   "cell_type": "markdown",
   "metadata": {},
   "source": [
    "This plot is analyzing the relationship between a city's wind speed and latitde. Based on the plot produced, it seems that there is no apparent pattern in the way latitude is related to wind speed. However, from the cities within our data frame, it seems wind speeds tend to be relatively low."
   ]
  },
  {
   "cell_type": "markdown",
   "metadata": {},
   "source": [
    "## Linear Regression"
   ]
  },
  {
   "cell_type": "code",
   "execution_count": 18,
   "metadata": {},
   "outputs": [],
   "source": [
    "northern = weather_df[weather_df['Lat']>=0]\n",
    "southern = weather_df[weather_df['Lat']<0]"
   ]
  },
  {
   "cell_type": "markdown",
   "metadata": {},
   "source": [
    "####  Northern Hemisphere - Max Temp vs. Latitude Linear Regression"
   ]
  },
  {
   "cell_type": "code",
   "execution_count": 19,
   "metadata": {},
   "outputs": [
    {
     "name": "stdout",
     "output_type": "stream",
     "text": [
      "The r-squared is: 0.7124835223348284\n"
     ]
    },
    {
     "data": {
      "image/png": "[encoded data removed]",
      "text/plain": [
       "<Figure size 432x288 with 1 Axes>"
      ]
     },
     "metadata": {
      "needs_background": "light"
     },
     "output_type": "display_data"
    }
   ],
   "source": [
    "(slope, intercept, rvalue, pvalue, stderr) = linregress(northern['Lat'], northern['Temperature (F)'])\n",
    "regress_values = northern['Lat'] *slope + intercept\n",
    "fig5, ax5 = plt.subplots()\n",
    "ax5.scatter(northern['Lat'], northern['Temperature (F)'])\n",
    "ax5.set(title = \"Latitude vs Temperature Plot for Northern Hemisphere\", \n",
    "       xlabel = \"Latitude\", \n",
    "       ylabel = \"Temperature (F)\");\n",
    "ax5.plot(northern['Lat'], regress_values, \"r-\");\n",
    "print(f\"The r-squared is: {rvalue**2}\")\n",
    "plt.savefig('Latitude vs. Temperature Plot for Northern Hemisphere.png', bbox_inches='tight')"
   ]
  },
  {
   "cell_type": "markdown",
   "metadata": {},
   "source": [
    "This plot is analyzing the relationship between a city's temperature and latitde where the city is within the Norther Hemisphere. Based on the plot produced, it seems that temperature seems to be lower in cities where the latitude is higher and therefore implying that the farther away from the equator a city is, the colder it will be. Our r value confirms this."
   ]
  },
  {
   "cell_type": "markdown",
   "metadata": {},
   "source": [
    "####  Southern Hemisphere - Max Temp vs. Latitude Linear Regression"
   ]
  },
  {
   "cell_type": "code",
   "execution_count": 20,
   "metadata": {},
   "outputs": [
    {
     "name": "stdout",
     "output_type": "stream",
     "text": [
      "The r-squared is: 0.5870163863450932\n"
     ]
    },
    {
     "data": {
      "image/png": "[encoded data removed]",
      "text/plain": [
       "<Figure size 432x288 with 1 Axes>"
      ]
     },
     "metadata": {
      "needs_background": "light"
     },
     "output_type": "display_data"
    }
   ],
   "source": [
    "(slope, intercept, rvalue, pvalue, stderr) = linregress(southern['Lat'], southern['Temperature (F)'])\n",
    "regress_values = southern['Lat'] *slope + intercept\n",
    "fig6, ax6 = plt.subplots()\n",
    "ax6.scatter(southern['Lat'], southern['Temperature (F)'])\n",
    "ax6.set(title = \"Latitude vs Temperature Plot for Southern Hemisphere\", \n",
    "       xlabel = \"Latitude\", \n",
    "       ylabel = \"Temperature (F)\");\n",
    "ax6.plot(southern['Lat'], regress_values, \"r-\");\n",
    "print(f\"The r-squared is: {rvalue**2}\")\n",
    "plt.savefig('Latitude vs. Temperature Plot for Southern Hemisphere.png', bbox_inches='tight')"
   ]
  },
  {
   "cell_type": "markdown",
   "metadata": {},
   "source": [
    "This plot is analyzing the relationship between a city's temperature and latitde where the city is within the Southern Hemisphere. Based on the plot produced, it seems that temperature seems to be lower in cities where the latitude is lower and therefore implying that the farther away from the equator a city is, the colder it will be. Our r value confirms this."
   ]
  },
  {
   "cell_type": "markdown",
   "metadata": {},
   "source": [
    "####  Northern Hemisphere - Humidity (%) vs. Latitude Linear Regression"
   ]
  },
  {
   "cell_type": "code",
   "execution_count": 21,
   "metadata": {},
   "outputs": [
    {
     "name": "stdout",
     "output_type": "stream",
     "text": [
      "The r-squared is: 0.0009190070260124723\n"
     ]
    },
    {
     "data": {
      "image/png": "[encoded data removed]",
      "text/plain": [
       "<Figure size 432x288 with 1 Axes>"
      ]
     },
     "metadata": {
      "needs_background": "light"
     },
     "output_type": "display_data"
    }
   ],
   "source": [
    "(slope, intercept, rvalue, pvalue, stderr) = linregress(northern['Lat'], northern['Humidity (%)'])\n",
    "regress_values = northern['Lat'] *slope + intercept\n",
    "fig7, ax7 = plt.subplots()\n",
    "ax7.scatter(northern['Lat'], northern['Humidity (%)'])\n",
    "ax7.set(title = \"Latitude vs Humidity Plot for Northern Hemisphere\", \n",
    "       xlabel = \"Latitude\", \n",
    "       ylabel = \"Humidity (%)\");\n",
    "ax7.plot(northern['Lat'], regress_values, \"r-\");\n",
    "print(f\"The r-squared is: {rvalue**2}\")\n",
    "plt.savefig('Latitude vs. Humidity Plot for Northern Hemisphere.png', bbox_inches='tight')"
   ]
  },
  {
   "cell_type": "markdown",
   "metadata": {},
   "source": [
    "This plot is analyzing the relationship between a city's humidity and latitde where the city is in the Northern Hemisphere. Based on the plot produced, it seems that there is no apparent pattern in the way latitude is related to humidity. Our r value confirms this. "
   ]
  },
  {
   "cell_type": "markdown",
   "metadata": {},
   "source": [
    "####  Southern Hemisphere - Humidity (%) vs. Latitude Linear Regression"
   ]
  },
  {
   "cell_type": "code",
   "execution_count": 22,
   "metadata": {},
   "outputs": [
    {
     "name": "stdout",
     "output_type": "stream",
     "text": [
      "The r-squared is: 0.024163777169775615\n"
     ]
    },
    {
     "data": {
      "image/png": "[encoded data removed]",
      "text/plain": [
       "<Figure size 432x288 with 1 Axes>"
      ]
     },
     "metadata": {
      "needs_background": "light"
     },
     "output_type": "display_data"
    }
   ],
   "source": [
    "(slope, intercept, rvalue, pvalue, stderr) = linregress(southern['Lat'], southern['Humidity (%)'])\n",
    "regress_values = southern['Lat'] *slope + intercept\n",
    "fig6, ax6 = plt.subplots()\n",
    "ax6.scatter(southern['Lat'], southern['Humidity (%)'])\n",
    "ax6.set(title = \"Latitude vs Humidity Plot for Northern Hemisphere\", \n",
    "       xlabel = \"Latitude\", \n",
    "       ylabel = \"Humidity (%)\");\n",
    "ax6.plot(southern['Lat'], regress_values, \"r-\");\n",
    "print(f\"The r-squared is: {rvalue**2}\")\n",
    "plt.savefig('Latitude vs. Humidity Plot for Southern Hemisphere.png', bbox_inches='tight')"
   ]
  },
  {
   "cell_type": "markdown",
   "metadata": {},
   "source": [
    "This plot is analyzing the relationship between a city's humidity and latitde where the city is in the Southern Hemisphere. Based on the plot produced, it seems that there is a vary faint positive relation between humidity and latitude however it is not a strong relationship, which is confirmed by our r value. I would argue that the two variables are pretty much unrelated. "
   ]
  },
  {
   "cell_type": "markdown",
   "metadata": {},
   "source": [
    "####  Northern Hemisphere - Cloudiness (%) vs. Latitude Linear Regression"
   ]
  },
  {
   "cell_type": "code",
   "execution_count": 23,
   "metadata": {},
   "outputs": [
    {
     "name": "stdout",
     "output_type": "stream",
     "text": [
      "The r-squared is: 0.01686436028477377\n"
     ]
    },
    {
     "data": {
      "image/png": "[encoded data removed]",
      "text/plain": [
       "<Figure size 432x288 with 1 Axes>"
      ]
     },
     "metadata": {
      "needs_background": "light"
     },
     "output_type": "display_data"
    }
   ],
   "source": [
    "(slope, intercept, rvalue, pvalue, stderr) = linregress(northern['Lat'], northern['Cloudiness (%)'])\n",
    "regress_values = northern['Lat'] *slope + intercept\n",
    "fig9, ax9 = plt.subplots()\n",
    "ax9.scatter(northern['Lat'], northern['Cloudiness (%)'])\n",
    "ax9.set(title = \"Latitude vs Cloudiness Plot for Northern Hemisphere\", \n",
    "       xlabel = \"Latitude\", \n",
    "       ylabel = \"Cloudiness (%)\");\n",
    "ax9.plot(northern['Lat'], regress_values, \"r-\");\n",
    "print(f\"The r-squared is: {rvalue**2}\")\n",
    "plt.savefig('Latitude vs. Cloudiness Plot for Northern Hemisphere.png', bbox_inches='tight')"
   ]
  },
  {
   "cell_type": "markdown",
   "metadata": {},
   "source": [
    "This plot is analyzing the relationship between a city's cloudiness and latitde where the city is within the Northern Hemisphere. Our r value suggests a very weak positive relationship between latitude and cloudiness. "
   ]
  },
  {
   "cell_type": "markdown",
   "metadata": {},
   "source": [
    "####  Southern Hemisphere - Cloudiness (%) vs. Latitude Linear Regression"
   ]
  },
  {
   "cell_type": "code",
   "execution_count": 24,
   "metadata": {},
   "outputs": [
    {
     "name": "stdout",
     "output_type": "stream",
     "text": [
      "The r-squared is: 0.022400908776324824\n"
     ]
    },
    {
     "data": {
      "image/png": "[encoded data removed]",
      "text/plain": [
       "<Figure size 432x288 with 1 Axes>"
      ]
     },
     "metadata": {
      "needs_background": "light"
     },
     "output_type": "display_data"
    }
   ],
   "source": [
    "(slope, intercept, rvalue, pvalue, stderr) = linregress(southern['Lat'], southern['Cloudiness (%)'])\n",
    "regress_values = southern['Lat'] *slope + intercept\n",
    "fig8, ax8 = plt.subplots()\n",
    "ax8.scatter(southern['Lat'], southern['Cloudiness (%)'])\n",
    "ax8.set(title = \"Latitude vs Cloudiness Plot for Southern Hemisphere\", \n",
    "       xlabel = \"Latitude\", \n",
    "       ylabel = \"Cloudiness (%)\");\n",
    "ax8.plot(southern['Lat'], regress_values, \"r-\");\n",
    "print(f\"The r-squared is: {rvalue**2}\")\n",
    "plt.savefig('Latitude vs. Cloudiness Plot for Southern Hemisphere.png', bbox_inches='tight')"
   ]
  },
  {
   "cell_type": "markdown",
   "metadata": {},
   "source": [
    "This plot is analyzing the relationship between a city's cloudiness and latitde where the city is within the Southern Hemisphere. Our r value suggests a very weak positive relationship between latitude and cloudiness. I would argue that there is no relationship between latitude and cloudiness."
   ]
  },
  {
   "cell_type": "markdown",
   "metadata": {},
   "source": [
    "####  Northern Hemisphere - Wind Speed (mph) vs. Latitude Linear Regression"
   ]
  },
  {
   "cell_type": "code",
   "execution_count": 25,
   "metadata": {},
   "outputs": [
    {
     "name": "stdout",
     "output_type": "stream",
     "text": [
      "The r-squared is: 0.0333859833911983\n"
     ]
    },
    {
     "data": {
      "image/png": "[encoded data removed]",
      "text/plain": [
       "<Figure size 432x288 with 1 Axes>"
      ]
     },
     "metadata": {
      "needs_background": "light"
     },
     "output_type": "display_data"
    }
   ],
   "source": [
    "(slope, intercept, rvalue, pvalue, stderr) = linregress(northern['Lat'], northern['Wind Speed (mph)'])\n",
    "regress_values = northern['Lat'] *slope + intercept\n",
    "fig11, ax11 = plt.subplots()\n",
    "ax11.scatter(northern['Lat'], northern['Wind Speed (mph)'])\n",
    "ax11.set(title = \"Latitude vs Wind Speed Plot for Northern Hemisphere\", \n",
    "       xlabel = \"Latitude\", \n",
    "       ylabel = \"Wind Speed (mph)\");\n",
    "ax11.plot(northern['Lat'], regress_values, \"r-\");\n",
    "print(f\"The r-squared is: {rvalue**2}\")\n",
    "plt.savefig('Latitude vs. Wind Speed Plot for Northern Hemisphere.png', bbox_inches='tight')"
   ]
  },
  {
   "cell_type": "markdown",
   "metadata": {},
   "source": [
    "This plot is analyzing the relationship between a city's wind speeds and latitde where the city is in the Northern Hemisphere. Based on the plot produced, it seems that there is no apparent pattern in the way latitude is related to wind speed. Our r confirms this analysis. "
   ]
  },
  {
   "cell_type": "markdown",
   "metadata": {},
   "source": [
    "####  Southern Hemisphere - Wind Speed (mph) vs. Latitude Linear Regression"
   ]
  },
  {
   "cell_type": "code",
   "execution_count": 26,
   "metadata": {},
   "outputs": [
    {
     "name": "stdout",
     "output_type": "stream",
     "text": [
      "The r-squared is: 0.0830890402024569\n"
     ]
    },
    {
     "data": {
      "image/png": "[encoded data removed]",
      "text/plain": [
       "<Figure size 432x288 with 1 Axes>"
      ]
     },
     "metadata": {
      "needs_background": "light"
     },
     "output_type": "display_data"
    }
   ],
   "source": [
    "(slope, intercept, rvalue, pvalue, stderr) = linregress(southern['Lat'], southern['Wind Speed (mph)'])\n",
    "regress_values = southern['Lat'] *slope + intercept\n",
    "fig8, ax8 = plt.subplots()\n",
    "ax8.scatter(southern['Lat'], southern['Wind Speed (mph)'])\n",
    "ax8.set(title = \"Latitude vs Wind Speed Plot for Southern Hemisphere\", \n",
    "       xlabel = \"Latitude\", \n",
    "       ylabel = \"Wind Speed (mph)\");\n",
    "ax8.plot(southern['Lat'], regress_values, \"r-\");\n",
    "print(f\"The r-squared is: {rvalue**2}\")\n",
    "plt.savefig('Latitude vs. Wind Speed Plot for Southern Hemisphere.png', bbox_inches='tight')"
   ]
  },
  {
   "cell_type": "markdown",
   "metadata": {},
   "source": [
    "This plot is analyzing the relationship between a city's wind speeds and latitde where the city is in the Southern Hemisphere. Based on the plot produced, it seems that there is a very weak negative relationship between latitude and wind speed. Our r value confirms this however, I would argue that there is no apparent pattern in the way latitude is related to wind speed."
   ]
  },
  {
   "cell_type": "code",
   "execution_count": null,
   "metadata": {},
   "outputs": [],
   "source": []
  }
 ],
 "metadata": {
  "anaconda-cloud": {},
  "kernel_info": {
   "name": "python3"
  },
  "kernelspec": {
   "display_name": "Python 3",
   "language": "python",
   "name": "python3"
  },
  "language_info": {
   "codemirror_mode": {
    "name": "ipython",
    "version": 3
   },
   "file_extension": ".py",
   "mimetype": "text/x-python",
   "name": "python",
   "nbconvert_exporter": "python",
   "pygments_lexer": "ipython3",
   "version": "3.8.5"
  },
  "latex_envs": {
   "LaTeX_envs_menu_present": true,
   "autoclose": false,
   "autocomplete": true,
   "bibliofile": "biblio.bib",
   "cite_by": "apalike",
   "current_citInitial": 1,
   "eqLabelWithNumbers": true,
   "eqNumInitial": 1,
   "hotkeys": {
    "equation": "Ctrl-E",
    "itemize": "Ctrl-I"
   },
   "labels_anchors": false,
   "latex_user_defs": false,
   "report_style_numbering": false,
   "user_envs_cfg": false
  },
  "nteract": {
   "version": "0.12.3"
  }
 },
 "nbformat": 4,
 "nbformat_minor": 2
}
